{
 "cells": [
  {
   "cell_type": "code",
   "execution_count": 1,
   "metadata": {},
   "outputs": [
    {
     "name": "stdout",
     "output_type": "stream",
     "text": [
      "Populating the interactive namespace from numpy and matplotlib\n"
     ]
    },
    {
     "data": {
      "text/plain": [
       "'/Users/stootoon/git'"
      ]
     },
     "execution_count": 1,
     "metadata": {},
     "output_type": "execute_result"
    }
   ],
   "source": [
    "from importlib import reload\n",
    "import os, sys\n",
    "%pylab inline\n",
    "os.environ[\"GIT\"]"
   ]
  },
  {
   "cell_type": "code",
   "execution_count": 2,
   "metadata": {},
   "outputs": [],
   "source": [
    "git_path = os.environ[\"GIT\"]\n",
    "proj_dir = f\"{git_path}/mctavish-2012\"\n",
    "sys.path.append(proj_dir+\"/src\")\n",
    "os.chdir(proj_dir)"
   ]
  },
  {
   "cell_type": "code",
   "execution_count": 3,
   "metadata": {},
   "outputs": [
    {
     "name": "stderr",
     "output_type": "stream",
     "text": [
      "/Users/stootoon/anaconda3/envs/amblr_py38/lib/python3.8/site-packages/scipy/__init__.py:146: UserWarning: A NumPy version >=1.16.5 and <1.23.0 is required for this version of SciPy (detected version 1.24.2\n",
      "  warnings.warn(f\"A NumPy version >={np_minversion} and <{np_maxversion}\"\n"
     ]
    },
    {
     "data": {
      "text/plain": [
       "<module 'neuronpy.util.spiketrain' from '/Users/stootoon/git/mctavish-2012/neuronpy/util/spiketrain.py'>"
      ]
     },
     "execution_count": 3,
     "metadata": {},
     "output_type": "execute_result"
    }
   ],
   "source": [
    "from params import sim_var\n",
    "import bulbspikes as bs\n",
    "import neuronpy; reload(neuronpy)\n",
    "import neuronpy.util as nu; reload(nu)\n",
    "from neuronpy.util import spiketrain\n",
    "reload(spiketrain)"
   ]
  },
  {
   "cell_type": "code",
   "execution_count": 19,
   "metadata": {},
   "outputs": [],
   "source": [
    "bulb_spikes = bs.BulbSpikes(sim_time = sim_var[\"tstop\"])\n",
    "bulb_spikes.read_file(os.path.join(proj_dir, \"spikeout.spk\"))"
   ]
  },
  {
   "cell_type": "code",
   "execution_count": 22,
   "metadata": {},
   "outputs": [],
   "source": [
    "spikes = bulb_spikes.get_mitral_spikes()"
   ]
  },
  {
   "cell_type": "code",
   "execution_count": 24,
   "metadata": {},
   "outputs": [],
   "source": [
    "spikes = bulb_spikes.get_mitral_spikes()\n",
    "pair = [0, 4]\n",
    "ref=spikes[pair[0]]\n",
    "comp = spikes[pair[1]]\n",
    "coincidences, mask_a, mask_b, ratio = spiketrain.get_sync_traits(ref, comp, window=5)"
   ]
  },
  {
   "cell_type": "code",
   "execution_count": 29,
   "metadata": {},
   "outputs": [
    {
     "data": {
      "text/plain": [
       "20000"
      ]
     },
     "execution_count": 29,
     "metadata": {},
     "output_type": "execute_result"
    }
   ],
   "source": [
    "bulb_spikes.sim_time"
   ]
  },
  {
   "cell_type": "code",
   "execution_count": 35,
   "metadata": {},
   "outputs": [],
   "source": [
    "phi_vec = spiketrain.coincident_spikes_correlogram(ref, comp, window=5, normalize=True)"
   ]
  },
  {
   "cell_type": "code",
   "execution_count": 36,
   "metadata": {},
   "outputs": [
    {
     "data": {
      "text/plain": [
       "[<matplotlib.axis.XTick at 0x124090250>,\n",
       " <matplotlib.axis.XTick at 0x124090220>,\n",
       " <matplotlib.axis.XTick at 0x124089d30>,\n",
       " <matplotlib.axis.XTick at 0x1240aadf0>,\n",
       " <matplotlib.axis.XTick at 0x1240b5250>]"
      ]
     },
     "execution_count": 36,
     "metadata": {},
     "output_type": "execute_result"
    },
    {
     "data": {
      "image/png": "[encoded data removed]",
      "text/plain": [
       "<Figure size 432x288 with 1 Axes>"
      ]
     },
     "metadata": {
      "needs_background": "light"
     },
     "output_type": "display_data"
    }
   ],
   "source": [
    "t = arange(len(phi_vec))\n",
    "plot(t - t[len(t)//2], phi_vec)\n",
    "xlim([-50,50])\n",
    "grid(True)\n",
    "gca().set_xticks(arange(-50,51,25))\n"
   ]
  },
  {
   "cell_type": "code",
   "execution_count": 12,
   "metadata": {},
   "outputs": [
    {
     "data": {
      "text/plain": [
       "5"
      ]
     },
     "execution_count": 12,
     "metadata": {},
     "output_type": "execute_result"
    }
   ],
   "source": [
    "len(spikes)"
   ]
  },
  {
   "cell_type": "code",
   "execution_count": null,
   "metadata": {},
   "outputs": [],
   "source": []
  }
 ],
 "metadata": {
  "kernelspec": {
   "display_name": "Python 3",
   "language": "python",
   "name": "python3"
  },
  "language_info": {
   "codemirror_mode": {
    "name": "ipython",
    "version": 3
   },
   "file_extension": ".py",
   "mimetype": "text/x-python",
   "name": "python",
   "nbconvert_exporter": "python",
   "pygments_lexer": "ipython3",
   "version": "3.8.5"
  }
 },
 "nbformat": 4,
 "nbformat_minor": 2
}
